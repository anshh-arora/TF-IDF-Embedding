{
 "cells": [
  {
   "cell_type": "code",
   "execution_count": 1,
   "metadata": {},
   "outputs": [],
   "source": [
    "import numpy as np\n",
    "import pandas as pd\n",
    "import math"
   ]
  },
  {
   "cell_type": "code",
   "execution_count": 2,
   "metadata": {},
   "outputs": [],
   "source": [
    "# Assign Documents \n",
    "docA = \"The cat sat on the wall\"\n",
    "docB = \"The dog sat on the mat\""
   ]
  },
  {
   "cell_type": "code",
   "execution_count": 3,
   "metadata": {},
   "outputs": [],
   "source": [
    "#spliting documents \n",
    "bowA = docA.split(\" \")\n",
    "bowB = docB.split(\" \")"
   ]
  },
  {
   "cell_type": "code",
   "execution_count": 4,
   "metadata": {},
   "outputs": [
    {
     "name": "stdout",
     "output_type": "stream",
     "text": [
      "bowA :['The', 'cat', 'sat', 'on', 'the', 'wall']\n",
      "bowB :['The', 'dog', 'sat', 'on', 'the', 'mat']\n"
     ]
    }
   ],
   "source": [
    "print(f\"bowA :{bowA}\")\n",
    "print(f\"bowB :{bowB}\")"
   ]
  },
  {
   "cell_type": "code",
   "execution_count": 5,
   "metadata": {},
   "outputs": [
    {
     "name": "stdout",
     "output_type": "stream",
     "text": [
      "wordSet : {'sat', 'the', 'The', 'mat', 'cat', 'wall', 'on', 'dog'}\n"
     ]
    }
   ],
   "source": [
    "# Create a wordset\n",
    "wordset = set(bowA).union(set(bowB))\n",
    "print(f\"wordSet : {wordset}\")"
   ]
  },
  {
   "cell_type": "code",
   "execution_count": 6,
   "metadata": {},
   "outputs": [
    {
     "name": "stdout",
     "output_type": "stream",
     "text": [
      "wordDictA: {'sat': 0, 'the': 0, 'The': 0, 'mat': 0, 'cat': 0, 'wall': 0, 'on': 0, 'dog': 0}\n",
      "wordDictB: {'sat': 0, 'the': 0, 'The': 0, 'mat': 0, 'cat': 0, 'wall': 0, 'on': 0, 'dog': 0}\n"
     ]
    }
   ],
   "source": [
    "wordDictA = dict.fromkeys(wordset,0)\n",
    "wordDictB = dict.fromkeys(wordset,0)\n",
    "print(f\"wordDictA: {wordDictA}\")\n",
    "print(f\"wordDictB: {wordDictB}\")"
   ]
  },
  {
   "cell_type": "code",
   "execution_count": 7,
   "metadata": {},
   "outputs": [],
   "source": [
    "for word in bowA:\n",
    "    wordDictA[word] +=1\n",
    "\n",
    "for word in bowA:\n",
    "    wordDictB[word] +=1"
   ]
  },
  {
   "cell_type": "code",
   "execution_count": 8,
   "metadata": {},
   "outputs": [
    {
     "data": {
      "text/plain": [
       "{'sat': 1,\n",
       " 'the': 1,\n",
       " 'The': 1,\n",
       " 'mat': 0,\n",
       " 'cat': 1,\n",
       " 'wall': 1,\n",
       " 'on': 1,\n",
       " 'dog': 0}"
      ]
     },
     "execution_count": 8,
     "metadata": {},
     "output_type": "execute_result"
    }
   ],
   "source": [
    "wordDictA"
   ]
  },
  {
   "cell_type": "code",
   "execution_count": 9,
   "metadata": {},
   "outputs": [
    {
     "data": {
      "text/html": [
       "<div>\n",
       "<style scoped>\n",
       "    .dataframe tbody tr th:only-of-type {\n",
       "        vertical-align: middle;\n",
       "    }\n",
       "\n",
       "    .dataframe tbody tr th {\n",
       "        vertical-align: top;\n",
       "    }\n",
       "\n",
       "    .dataframe thead th {\n",
       "        text-align: right;\n",
       "    }\n",
       "</style>\n",
       "<table border=\"1\" class=\"dataframe\">\n",
       "  <thead>\n",
       "    <tr style=\"text-align: right;\">\n",
       "      <th></th>\n",
       "      <th>sat</th>\n",
       "      <th>the</th>\n",
       "      <th>The</th>\n",
       "      <th>mat</th>\n",
       "      <th>cat</th>\n",
       "      <th>wall</th>\n",
       "      <th>on</th>\n",
       "      <th>dog</th>\n",
       "    </tr>\n",
       "  </thead>\n",
       "  <tbody>\n",
       "    <tr>\n",
       "      <th>{'sat': 1, 'the': 1, 'The': 1, 'mat': 0, 'cat': 1, 'wall': 1, 'on': 1, 'dog': 0}</th>\n",
       "      <td>1</td>\n",
       "      <td>1</td>\n",
       "      <td>1</td>\n",
       "      <td>0</td>\n",
       "      <td>1</td>\n",
       "      <td>1</td>\n",
       "      <td>1</td>\n",
       "      <td>0</td>\n",
       "    </tr>\n",
       "  </tbody>\n",
       "</table>\n",
       "</div>"
      ],
      "text/plain": [
       "                                                    sat  the  The  mat  cat  \\\n",
       "{'sat': 1, 'the': 1, 'The': 1, 'mat': 0, 'cat':...    1    1    1    0    1   \n",
       "\n",
       "                                                    wall  on  dog  \n",
       "{'sat': 1, 'the': 1, 'The': 1, 'mat': 0, 'cat':...     1   1    0  "
      ]
     },
     "execution_count": 9,
     "metadata": {},
     "output_type": "execute_result"
    }
   ],
   "source": [
    "#converting wordDictA and wordDictB into data frame\n",
    "pd.DataFrame([wordDictA],[wordDictB])"
   ]
  },
  {
   "cell_type": "code",
   "execution_count": null,
   "metadata": {},
   "outputs": [],
   "source": []
  }
 ],
 "metadata": {
  "kernelspec": {
   "display_name": "Python 3",
   "language": "python",
   "name": "python3"
  },
  "language_info": {
   "codemirror_mode": {
    "name": "ipython",
    "version": 3
   },
   "file_extension": ".py",
   "mimetype": "text/x-python",
   "name": "python",
   "nbconvert_exporter": "python",
   "pygments_lexer": "ipython3",
   "version": "3.12.3"
  }
 },
 "nbformat": 4,
 "nbformat_minor": 2
}
